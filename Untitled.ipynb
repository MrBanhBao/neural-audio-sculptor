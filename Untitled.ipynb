{
 "cells": [
  {
   "cell_type": "code",
   "execution_count": 23,
   "id": "ed29ef4b-e5a1-4456-a916-db5a688e2986",
   "metadata": {},
   "outputs": [],
   "source": [
    "import os\n",
    "from pydantic import BaseModel\n",
    "from typing import List"
   ]
  },
  {
   "cell_type": "code",
   "execution_count": 24,
   "id": "c9f33339-d38a-4b4c-93c3-c05553679a40",
   "metadata": {},
   "outputs": [],
   "source": [
    "base_dir = \"/home/hao/Pictures/stream_diffusion\""
   ]
  },
  {
   "cell_type": "code",
   "execution_count": 35,
   "id": "a71d68d8-15b3-453a-93d8-88bbe0dae9de",
   "metadata": {},
   "outputs": [],
   "source": [
    "class ImageInputPreviewData(BaseModel):\n",
    "    name: str\n",
    "    path: str\n",
    "    images: List[str]\n"
   ]
  },
  {
   "cell_type": "code",
   "execution_count": 39,
   "id": "6f4bf264-7815-4ed8-9298-9f0a94bb37f3",
   "metadata": {},
   "outputs": [],
   "source": [
    "def create_image_input_preview_data(base_dir: str):\n",
    "    data_list = []\n",
    "    for root, dirs, files in os.walk(base_dir):\n",
    "        for subdir in dirs:\n",
    "            subdir_path = os.path.join(root, subdir)\n",
    "            images = [os.path.join(subdir_path, file) for file in os.listdir(subdir_path)[:5] if file.lower().endswith(('png', 'jpg', 'jpeg', 'gif', 'bmp', 'tiff'))]\n",
    "    \n",
    "            data = ImageInputPreviewData(name=subdir, path=subdir_path, images=images)\n",
    "            data_list.append(data)\n",
    "    return data_list"
   ]
  },
  {
   "cell_type": "code",
   "execution_count": null,
   "id": "20ef488d-a889-4e8a-97bc-8a5718a2785d",
   "metadata": {},
   "outputs": [],
   "source": []
  },
  {
   "cell_type": "code",
   "execution_count": 40,
   "id": "8319edfa-447e-48a1-9a94-5b3efe3dd562",
   "metadata": {},
   "outputs": [
    {
     "data": {
      "text/plain": [
       "[ImageInputPreviewData(name='flowers', path='/home/hao/Pictures/stream_diffusion/flowers', images=['/home/hao/Pictures/stream_diffusion/flowers/img00000042.png', '/home/hao/Pictures/stream_diffusion/flowers/img00000065.png', '/home/hao/Pictures/stream_diffusion/flowers/img00000454.png', '/home/hao/Pictures/stream_diffusion/flowers/img00000085.png', '/home/hao/Pictures/stream_diffusion/flowers/img00000619.png']),\n",
       " ImageInputPreviewData(name='nature_pattern', path='/home/hao/Pictures/stream_diffusion/nature_pattern', images=['/home/hao/Pictures/stream_diffusion/nature_pattern/14-a_secret_garden_hidden_behind_a_magical_door_in_an_ordinary_backyard.jpg', '/home/hao/Pictures/stream_diffusion/nature_pattern/70-a_mythical_creature_emerging_from_the_depths_of_a_volcano.jpg', '/home/hao/Pictures/stream_diffusion/nature_pattern/50-a_floating_marketplace_in_the_clouds.jpg', '/home/hao/Pictures/stream_diffusion/nature_pattern/62-an_abandoned_spaceship_drifting_through_the_void_of_space.jpg', '/home/hao/Pictures/stream_diffusion/nature_pattern/34-a_floating_island_inhabited_by_peaceful_creatures.jpg'])]"
      ]
     },
     "execution_count": 40,
     "metadata": {},
     "output_type": "execute_result"
    }
   ],
   "source": [
    "create_image_input_preview_data(base_dir)"
   ]
  },
  {
   "cell_type": "code",
   "execution_count": null,
   "id": "ec306b85-9173-4e69-8823-34c350303494",
   "metadata": {},
   "outputs": [],
   "source": []
  }
 ],
 "metadata": {
  "kernelspec": {
   "display_name": "Python 3 (ipykernel)",
   "language": "python",
   "name": "python3"
  },
  "language_info": {
   "codemirror_mode": {
    "name": "ipython",
    "version": 3
   },
   "file_extension": ".py",
   "mimetype": "text/x-python",
   "name": "python",
   "nbconvert_exporter": "python",
   "pygments_lexer": "ipython3",
   "version": "3.10.14"
  }
 },
 "nbformat": 4,
 "nbformat_minor": 5
}
