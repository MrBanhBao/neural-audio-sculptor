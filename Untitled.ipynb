{
 "cells": [
  {
   "cell_type": "code",
   "execution_count": 1,
   "id": "016f6ecd-16c2-4302-b1d9-8e6dbb6c642f",
   "metadata": {},
   "outputs": [],
   "source": [
    "import os"
   ]
  },
  {
   "cell_type": "code",
   "execution_count": 2,
   "id": "c9f33339-d38a-4b4c-93c3-c05553679a40",
   "metadata": {},
   "outputs": [],
   "source": [
    "base_dir = '/home/hao/Pictures/stream_diffusion'"
   ]
  },
  {
   "cell_type": "code",
   "execution_count": 9,
   "id": "a71d68d8-15b3-453a-93d8-88bbe0dae9de",
   "metadata": {},
   "outputs": [
    {
     "name": "stdout",
     "output_type": "stream",
     "text": [
      "['/home/hao/Pictures/stream_diffusion/flowers/img00000042.png', '/home/hao/Pictures/stream_diffusion/flowers/img00000065.png', '/home/hao/Pictures/stream_diffusion/flowers/img00000454.png', '/home/hao/Pictures/stream_diffusion/flowers/img00000085.png', '/home/hao/Pictures/stream_diffusion/flowers/img00000619.png']\n",
      "[]\n"
     ]
    }
   ],
   "source": [
    "for root, dirs, files in os.walk(base_dir):\n",
    "    for subdir in dirs:\n",
    "        subdir_path = os.path.join(root, subdir)\n",
    "        images = [os.path.join(subdir_path, file) for file in os.listdir(subdir_path)[:5] if file.lower().endswith(('png', 'jpg', 'jpeg', 'gif', 'bmp', 'tiff'))]\n",
    "\n",
    "        print(images)"
   ]
  },
  {
   "cell_type": "code",
   "execution_count": 8,
   "id": "6f4bf264-7815-4ed8-9298-9f0a94bb37f3",
   "metadata": {},
   "outputs": [
    {
     "data": {
      "text/plain": [
       "[]"
      ]
     },
     "execution_count": 8,
     "metadata": {},
     "output_type": "execute_result"
    }
   ],
   "source": [
    "images"
   ]
  },
  {
   "cell_type": "code",
   "execution_count": null,
   "id": "20ef488d-a889-4e8a-97bc-8a5718a2785d",
   "metadata": {},
   "outputs": [],
   "source": []
  }
 ],
 "metadata": {
  "kernelspec": {
   "display_name": "Python 3 (ipykernel)",
   "language": "python",
   "name": "python3"
  },
  "language_info": {
   "codemirror_mode": {
    "name": "ipython",
    "version": 3
   },
   "file_extension": ".py",
   "mimetype": "text/x-python",
   "name": "python",
   "nbconvert_exporter": "python",
   "pygments_lexer": "ipython3",
   "version": "3.10.14"
  }
 },
 "nbformat": 4,
 "nbformat_minor": 5
}
