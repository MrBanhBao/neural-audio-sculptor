{
 "cells": [
  {
   "cell_type": "code",
   "execution_count": 23,
   "id": "ed29ef4b-e5a1-4456-a916-db5a688e2986",
   "metadata": {},
   "outputs": [],
   "source": [
    "import os\n",
    "from pydantic import BaseModel\n",
    "from typing import List"
   ]
  },
  {
   "cell_type": "code",
   "execution_count": 24,
   "id": "c9f33339-d38a-4b4c-93c3-c05553679a40",
   "metadata": {},
   "outputs": [],
   "source": [
    "base_dir = \"/home/hao/Pictures/stream_diffusion\""
   ]
  },
  {
   "cell_type": "code",
   "execution_count": 25,
   "id": "a71d68d8-15b3-453a-93d8-88bbe0dae9de",
   "metadata": {},
   "outputs": [],
   "source": [
    "class ImageInputsPreviewData(BaseModel):\n",
    "    name: str\n",
    "    path: str\n",
    "    images: List[str]\n"
   ]
  },
  {
   "cell_type": "code",
   "execution_count": 26,
   "id": "6f4bf264-7815-4ed8-9298-9f0a94bb37f3",
   "metadata": {},
   "outputs": [],
   "source": [
    "def create_image_input_preview_data():\n",
    "    image_preview_data_ist = []\n",
    "    for root, dirs, files in os.walk(base_dir):\n",
    "        for subdir in dirs:\n",
    "            subdir_path = os.path.join(root, subdir)\n",
    "            images = [os.path.join(subdir_path, file) for file in os.listdir(subdir_path)[:5] if file.lower().endswith(('png', 'jpg', 'jpeg', 'gif', 'bmp', 'tiff'))]\n",
    "    \n",
    "            obj = ImageInputPreviewData(name=subdir, path=subdir_path, images=images)"
   ]
  },
  {
   "cell_type": "code",
   "execution_count": null,
   "id": "20ef488d-a889-4e8a-97bc-8a5718a2785d",
   "metadata": {},
   "outputs": [],
   "source": []
  }
 ],
 "metadata": {
  "kernelspec": {
   "display_name": "Python 3 (ipykernel)",
   "language": "python",
   "name": "python3"
  },
  "language_info": {
   "codemirror_mode": {
    "name": "ipython",
    "version": 3
   },
   "file_extension": ".py",
   "mimetype": "text/x-python",
   "name": "python",
   "nbconvert_exporter": "python",
   "pygments_lexer": "ipython3",
   "version": "3.10.14"
  }
 },
 "nbformat": 4,
 "nbformat_minor": 5
}
